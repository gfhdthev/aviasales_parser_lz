{
 "cells": [
  {
   "cell_type": "code",
   "execution_count": 72,
   "metadata": {},
   "outputs": [],
   "source": [
    "from selenium import webdriver\n",
    "from selenium.webdriver.common.by import By\n",
    "from selenium.webdriver.common.keys import Keys\n",
    "import time\n",
    "from selenium.webdriver.support.ui import WebDriverWait\n",
    "from selenium.webdriver.support import expected_conditions as EC\n",
    "from selenium.webdriver.chrome.options import Options\n",
    "from selenium.webdriver.chrome.service import Service\n",
    "from selenium.webdriver import Keys, ActionChains\n",
    "import matplotlib as plt\n",
    "\n",
    "from log import logging"
   ]
  },
  {
   "cell_type": "code",
   "execution_count": 81,
   "metadata": {},
   "outputs": [],
   "source": [
    "driver=webdriver.Chrome()\n",
    "\n",
    "driver.get(\"https://www.aviasales.by/\")"
   ]
  },
  {
   "cell_type": "code",
   "execution_count": 74,
   "metadata": {},
   "outputs": [],
   "source": [
    "def open_window_popular_countries():\n",
    "    ActionChains(driver)\\\n",
    "        .key_down(Keys.PAGE_DOWN)\\\n",
    "        .perform()\n",
    "    time.sleep(0.1)\n",
    "    clickable_element = WebDriverWait(driver, 10).until(\n",
    "        EC.element_to_be_clickable((By.XPATH, '//*[@id=\"selene\"]/div/div[2]/div/noindex/div/div/div[3]/div/div[2]/button'))\n",
    "    )\n",
    "\n",
    "    clickable_element.click()\n",
    "\n",
    "def get_all_popular_countries():\n",
    "    countries = WebDriverWait(driver, 10).until(\n",
    "        EC.presence_of_all_elements_located((By.CLASS_NAME, \"s__MvVzMn1eHc7dL22r\"))\n",
    "    )\n",
    "    return countries\n",
    "\n",
    "def open_window_all_cities():\n",
    "    clickable_element = WebDriverWait(driver, 3).until(\n",
    "        EC.element_to_be_clickable((By.XPATH, '//*[@id=\"selene\"]/div/div[2]/div/section/div/div/div[2]/button'))\n",
    "    )\n",
    "\n",
    "    clickable_element.click()"
   ]
  },
  {
   "cell_type": "code",
   "execution_count": 86,
   "metadata": {},
   "outputs": [],
   "source": [
    "open_window_popular_countries()\n",
    "len_list_with_countries = len(get_all_popular_countries()) - 1\n",
    "\n",
    "count = 0"
   ]
  },
  {
   "cell_type": "code",
   "execution_count": null,
   "metadata": {},
   "outputs": [],
   "source": [
    "while count <= len_list_with_countries:\n",
    "    buttons = get_all_popular_countries()\n",
    "    button = buttons[count]\n",
    "    count += 1\n",
    "    driver.execute_script(\"arguments[0].click();\", button)\n",
    "\n",
    "    try:#не у всех стран есть оено с городами\n",
    "        open_window_all_cities()\n",
    "    except Exception:\n",
    "        pass\n",
    "    \n",
    "    time.sleep(1)\n",
    "\n",
    "    #перезаход на сайт, чтобы взять новую страну\n",
    "    driver.get(\"https://www.aviasales.by/\")\n",
    "    time.sleep(1.5)\n",
    "    open_window_popular_countries()"
   ]
  }
 ],
 "metadata": {
  "kernelspec": {
   "display_name": "Python 3",
   "language": "python",
   "name": "python3"
  },
  "language_info": {
   "codemirror_mode": {
    "name": "ipython",
    "version": 3
   },
   "file_extension": ".py",
   "mimetype": "text/x-python",
   "name": "python",
   "nbconvert_exporter": "python",
   "pygments_lexer": "ipython3",
   "version": "3.12.10"
  }
 },
 "nbformat": 4,
 "nbformat_minor": 2
}
